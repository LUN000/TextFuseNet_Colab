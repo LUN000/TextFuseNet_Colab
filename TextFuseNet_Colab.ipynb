{
  "nbformat": 4,
  "nbformat_minor": 0,
  "metadata": {
    "colab": {
      "provenance": [],
      "collapsed_sections": [
        "44Rrb4WCG2yM",
        "7osAPwYsHFWM"
      ]
    },
    "kernelspec": {
      "name": "python3",
      "display_name": "Python 3"
    },
    "language_info": {
      "name": "python"
    },
    "accelerator": "GPU",
    "gpuClass": "standard"
  },
  "cells": [
    {
      "cell_type": "markdown",
      "source": [
        "# TextFuseNet environment setup"
      ],
      "metadata": {
        "id": "44Rrb4WCG2yM"
      }
    },
    {
      "cell_type": "code",
      "execution_count": null,
      "metadata": {
        "colab": {
          "base_uri": "https://localhost:8080/"
        },
        "id": "oGD5V-p7Eqs7",
        "outputId": "00dde871-81d6-4523-bd7c-b3324a25db5a"
      },
      "outputs": [
        {
          "output_type": "stream",
          "name": "stdout",
          "text": [
            "⏬ Downloading https://github.com/jaimergp/miniforge/releases/latest/download/Mambaforge-colab-Linux-x86_64.sh...\n",
            "📦 Installing...\n",
            "📌 Adjusting configuration...\n",
            "🩹 Patching environment...\n",
            "⏲ Done in 0:00:18\n",
            "🔁 Restarting kernel...\n"
          ]
        }
      ],
      "source": [
        "!pip install -q condacolab\n",
        "import condacolab\n",
        "condacolab.install()"
      ]
    },
    {
      "cell_type": "code",
      "source": [
        "!conda update -n base conda"
      ],
      "metadata": {
        "colab": {
          "base_uri": "https://localhost:8080/"
        },
        "id": "cGRpNBUeRl4G",
        "outputId": "9a33289b-8077-444a-8ffd-559ffb19a73d"
      },
      "execution_count": null,
      "outputs": [
        {
          "output_type": "stream",
          "name": "stdout",
          "text": [
            "Collecting package metadata (current_repodata.json): - \b\b\\ \b\b| \b\b/ \b\b- \b\b\\ \b\b| \b\b/ \b\b- \b\b\\ \b\b| \b\b/ \b\b- \b\b\\ \b\b| \b\b/ \b\b- \b\b\\ \b\b| \b\b/ \b\b- \b\b\\ \b\b| \b\b/ \b\b- \b\b\\ \b\b| \b\b/ \b\b- \b\b\\ \b\b| \b\b/ \b\b- \b\b\\ \b\b| \b\b/ \b\b- \b\b\\ \b\b| \b\b/ \b\b- \b\b\\ \b\b| \b\b/ \b\b- \b\b\\ \b\b| \b\b/ \b\b- \b\b\\ \b\b| \b\b/ \b\b- \b\b\\ \b\b| \b\b/ \b\b- \b\b\\ \b\b| \b\b/ \b\b- \b\b\\ \b\b| \b\b/ \b\b- \b\b\\ \b\b| \b\b/ \b\b- \b\b\\ \b\b| \b\b/ \b\b- \b\b\\ \b\b| \b\b/ \b\b- \b\b\\ \b\b| \b\b/ \b\b- \b\b\\ \b\b| \b\b/ \b\b- \b\b\\ \b\b| \b\b/ \b\b- \b\b\\ \b\b| \b\b/ \b\b- \b\b\\ \b\b| \b\b/ \b\b- \b\b\\ \b\b| \b\b/ \b\b- \b\b\\ \b\b| \b\b/ \b\b- \b\b\\ \b\b| \b\b/ \b\b- \b\b\\ \b\b| \b\b/ \b\b- \b\b\\ \b\b| \b\b/ \b\b- \b\b\\ \b\b| \b\b/ \b\b- \b\b\\ \b\b| \b\b/ \b\b- \b\b\\ \b\b| \b\b/ \b\b- \b\b\\ \b\b| \b\b/ \b\b- \b\b\\ \b\b| \b\b/ \b\b- \b\b\\ \b\b| \b\b/ \b\b- \b\b\\ \b\b| \b\b/ \b\b- \b\b\\ \b\b| \b\b/ \b\b- \b\bdone\n",
            "Solving environment: | \b\b/ \b\b- \b\b\\ \b\b| \b\b/ \b\b- \b\b\\ \b\b| \b\b/ \b\b- \b\b\\ \b\b| \b\b/ \b\b- \b\b\\ \b\b| \b\b/ \b\b- \b\b\\ \b\b| \b\b/ \b\b- \b\b\\ \b\b| \b\bdone\n",
            "\n",
            "## Package Plan ##\n",
            "\n",
            "  environment location: /usr/local\n",
            "\n",
            "  added / updated specs:\n",
            "    - conda\n",
            "\n",
            "\n",
            "The following packages will be downloaded:\n",
            "\n",
            "    package                    |            build\n",
            "    ---------------------------|-----------------\n",
            "    ca-certificates-2022.12.7  |       ha878542_0         143 KB  conda-forge\n",
            "    certifi-2022.12.7          |     pyhd8ed1ab_0         147 KB  conda-forge\n",
            "    cffi-1.15.1                |   py38h4a40e3a_3         230 KB  conda-forge\n",
            "    colorama-0.4.6             |     pyhd8ed1ab_0          25 KB  conda-forge\n",
            "    conda-22.11.1              |   py38h578d9bd_1         905 KB  conda-forge\n",
            "    cryptography-39.0.1        |   py38h3d167d9_0         1.4 MB  conda-forge\n",
            "    krb5-1.20.1                |       h81ceb04_0         1.3 MB  conda-forge\n",
            "    ld_impl_linux-64-2.40      |       h41732ed_0         688 KB  conda-forge\n",
            "    libcurl-7.87.0             |       hdc1c0ab_0         341 KB  conda-forge\n",
            "    libnghttp2-1.51.0          |       hff17c54_0         610 KB  conda-forge\n",
            "    libsolv-0.7.23             |       h3eb15da_0         451 KB  conda-forge\n",
            "    lz4-c-1.9.4                |       hcb278e6_0         140 KB  conda-forge\n",
            "    openssl-3.0.8              |       h0b41bf4_0         2.5 MB  conda-forge\n",
            "    pluggy-1.0.0               |     pyhd8ed1ab_5          16 KB  conda-forge\n",
            "    pyopenssl-23.0.0           |     pyhd8ed1ab_0         124 KB  conda-forge\n",
            "    python-3.8.16              |he550d4f_1_cpython        21.8 MB  conda-forge\n",
            "    reproc-14.2.4              |       h0b41bf4_0          30 KB  conda-forge\n",
            "    reproc-cpp-14.2.4          |       hcb278e6_0          21 KB  conda-forge\n",
            "    requests-2.28.2            |     pyhd8ed1ab_0          55 KB  conda-forge\n",
            "    ruamel.yaml-0.17.21        |   py38h0a891b7_2         172 KB  conda-forge\n",
            "    ruamel.yaml.clib-0.2.7     |   py38h1de0b5d_1         143 KB  conda-forge\n",
            "    setuptools-67.1.0          |     pyhd8ed1ab_0         562 KB  conda-forge\n",
            "    tqdm-4.64.1                |     pyhd8ed1ab_0          82 KB  conda-forge\n",
            "    urllib3-1.26.14            |     pyhd8ed1ab_0         110 KB  conda-forge\n",
            "    zstd-1.5.2                 |       h3eb15da_6         410 KB  conda-forge\n",
            "    ------------------------------------------------------------\n",
            "                                           Total:        32.2 MB\n",
            "\n",
            "The following NEW packages will be INSTALLED:\n",
            "\n",
            "  colorama           conda-forge/noarch::colorama-0.4.6-pyhd8ed1ab_0 None\n",
            "  pluggy             conda-forge/noarch::pluggy-1.0.0-pyhd8ed1ab_5 None\n",
            "  ruamel.yaml        conda-forge/linux-64::ruamel.yaml-0.17.21-py38h0a891b7_2 None\n",
            "  ruamel.yaml.clib   conda-forge/linux-64::ruamel.yaml.clib-0.2.7-py38h1de0b5d_1 None\n",
            "  tqdm               conda-forge/noarch::tqdm-4.64.1-pyhd8ed1ab_0 None\n",
            "\n",
            "The following packages will be REMOVED:\n",
            "\n",
            "  ruamel_yaml-0.15.80-py38h0a891b7_1008\n",
            "  yaml-0.2.5-h7f98852_2\n",
            "\n",
            "The following packages will be UPDATED:\n",
            "\n",
            "  ca-certificates                      2022.9.24-ha878542_0 --> 2022.12.7-ha878542_0 None\n",
            "  certifi                            2022.9.24-pyhd8ed1ab_0 --> 2022.12.7-pyhd8ed1ab_0 None\n",
            "  cffi                                1.15.1-py38h4a40e3a_2 --> 1.15.1-py38h4a40e3a_3 None\n",
            "  conda                               22.9.0-py38h578d9bd_2 --> 22.11.1-py38h578d9bd_1 None\n",
            "  cryptography                        38.0.4-py38h80a4ca7_0 --> 39.0.1-py38h3d167d9_0 None\n",
            "  krb5                                    1.19.3-h08a2579_0 --> 1.20.1-h81ceb04_0 None\n",
            "  ld_impl_linux-64                          2.39-hcc3a1bd_1 --> 2.40-h41732ed_0 None\n",
            "  libcurl                                 7.86.0-h2283fc2_1 --> 7.87.0-hdc1c0ab_0 None\n",
            "  libnghttp2                              1.47.0-hff17c54_1 --> 1.51.0-hff17c54_0 None\n",
            "  libsolv                                 0.7.22-h6239696_0 --> 0.7.23-h3eb15da_0 None\n",
            "  lz4-c                                    1.9.3-h9c3ff4c_1 --> 1.9.4-hcb278e6_0 None\n",
            "  openssl                                  3.0.7-h0b41bf4_1 --> 3.0.8-h0b41bf4_0 None\n",
            "  pyopenssl                             22.1.0-pyhd8ed1ab_0 --> 23.0.0-pyhd8ed1ab_0 None\n",
            "  python                          3.8.15-h4a9ceb5_0_cpython --> 3.8.16-he550d4f_1_cpython None\n",
            "  reproc                                  14.2.3-h7f98852_0 --> 14.2.4-h0b41bf4_0 None\n",
            "  reproc-cpp                              14.2.3-h9c3ff4c_0 --> 14.2.4-hcb278e6_0 None\n",
            "  requests                              2.28.1-pyhd8ed1ab_1 --> 2.28.2-pyhd8ed1ab_0 None\n",
            "  setuptools                            65.5.1-pyhd8ed1ab_0 --> 67.1.0-pyhd8ed1ab_0 None\n",
            "  urllib3                              1.26.13-pyhd8ed1ab_0 --> 1.26.14-pyhd8ed1ab_0 None\n",
            "  zstd                                     1.5.2-h6239696_4 --> 1.5.2-h3eb15da_6 None\n",
            "\n",
            "\n",
            "\n",
            "Downloading and Extracting Packages\n",
            "lz4-c-1.9.4          | 140 KB    | : 100% 1.0/1 [00:00<00:00,  8.49it/s]\n",
            "libnghttp2-1.51.0    | 610 KB    | : 100% 1.0/1 [00:00<00:00, 13.60it/s]\n",
            "pluggy-1.0.0         | 16 KB     | : 100% 1.0/1 [00:00<00:00, 23.22it/s]\n",
            "libcurl-7.87.0       | 341 KB    | : 100% 1.0/1 [00:00<00:00, 16.81it/s]\n",
            "tqdm-4.64.1          | 82 KB     | : 100% 1.0/1 [00:00<00:00, 11.13it/s]\n",
            "certifi-2022.12.7    | 147 KB    | : 100% 1.0/1 [00:00<00:00, 22.72it/s]\n",
            "conda-22.11.1        | 905 KB    | : 100% 1.0/1 [00:00<00:00,  3.85it/s]\n",
            "python-3.8.16        | 21.8 MB   | : 100% 1.0/1 [00:01<00:00,  1.61s/it]\n",
            "reproc-cpp-14.2.4    | 21 KB     | : 100% 1.0/1 [00:00<00:00, 23.17it/s]\n",
            "cffi-1.15.1          | 230 KB    | : 100% 1.0/1 [00:00<00:00, 15.74it/s]\n",
            "zstd-1.5.2           | 410 KB    | : 100% 1.0/1 [00:00<00:00, 13.28it/s]\n",
            "reproc-14.2.4        | 30 KB     | : 100% 1.0/1 [00:00<00:00, 18.22it/s]\n",
            "urllib3-1.26.14      | 110 KB    | : 100% 1.0/1 [00:00<00:00, 16.46it/s]\n",
            "requests-2.28.2      | 55 KB     | : 100% 1.0/1 [00:00<00:00, 17.56it/s]\n",
            "libsolv-0.7.23       | 451 KB    | : 100% 1.0/1 [00:00<00:00, 11.57it/s]\n",
            "ruamel.yaml.clib-0.2 | 143 KB    | : 100% 1.0/1 [00:00<00:00, 22.79it/s]\n",
            "pyopenssl-23.0.0     | 124 KB    | : 100% 1.0/1 [00:00<00:00, 16.51it/s]\n",
            "openssl-3.0.8        | 2.5 MB    | : 100% 1.0/1 [00:00<00:00,  5.65it/s]\n",
            "colorama-0.4.6       | 25 KB     | : 100% 1.0/1 [00:00<00:00, 22.49it/s]\n",
            "krb5-1.20.1          | 1.3 MB    | : 100% 1.0/1 [00:00<00:00,  7.16it/s]\n",
            "cryptography-39.0.1  | 1.4 MB    | : 100% 1.0/1 [00:00<00:00,  3.32it/s]\n",
            "ca-certificates-2022 | 143 KB    | : 100% 1.0/1 [00:00<00:00, 26.03it/s]\n",
            "ld_impl_linux-64-2.4 | 688 KB    | : 100% 1.0/1 [00:00<00:00, 14.32it/s]\n",
            "setuptools-67.1.0    | 562 KB    | : 100% 1.0/1 [00:00<00:00,  6.34it/s]\n",
            "ruamel.yaml-0.17.21  | 172 KB    | : 100% 1.0/1 [00:00<00:00,  9.43it/s]\n",
            "Preparing transaction: - \b\b\\ \b\b| \b\bdone\n",
            "Verifying transaction: - \b\b\\ \b\b| \b\b/ \b\b- \b\b\\ \b\b| \b\b/ \b\b- \b\b\\ \b\b| \b\bdone\n",
            "Executing transaction: - \b\b\\ \b\b| \b\b/ \b\b- \b\b\\ \b\b| \b\b/ \b\b- \b\b\\ \b\b| \b\b/ \b\b- \b\b\\ \b\b| \b\b/ \b\b- \b\bdone\n",
            "Retrieving notices: ...working... done\n"
          ]
        }
      ]
    },
    {
      "cell_type": "code",
      "source": [
        "%%bash\n",
        "# create a new conda environment.\n",
        "conda create --name textfusenet python=3.7.3\n",
        "conda activate textfusenet\n",
        "# install pytorch 1.3.1.\n",
        "conda install pytorch=1.3.1 torchvision cudatoolkit=10.1 -c pytorch\n",
        "\n",
        "# install other libraries for building TextFuseNet-detectron2. You can get detailed versions from the requirements.txt, \n",
        "# and difference between different versions may lead to unknown influence on performance.\n",
        "pip install opencv-python\n",
        "pip install tensorboard\n",
        "pip install yacs\n",
        "pip install tqdm\n",
        "pip install termcolor\n",
        "pip install tabulate\n",
        "pip install matplotlib\n",
        "pip install cloudpickle\n",
        "pip install wheel"
      ],
      "metadata": {
        "id": "NrhihoT4F7l2"
      },
      "execution_count": null,
      "outputs": []
    },
    {
      "cell_type": "markdown",
      "source": [
        "# Model Download"
      ],
      "metadata": {
        "id": "7osAPwYsHFWM"
      }
    },
    {
      "cell_type": "code",
      "source": [
        "import os\n",
        "\n",
        "colab_path = \"\"\n",
        "os.chdir(colab_path)\n",
        "!git clone https://github.com/ying09/TextFuseNet.git\n",
        "!unzip TextFuseNet-master\n",
        "os.chdir(\"TextFuseNet\")\n",
        "os.getcwd()"
      ],
      "metadata": {
        "id": "iQKomFOHHPRk"
      },
      "execution_count": null,
      "outputs": []
    },
    {
      "cell_type": "code",
      "source": [
        "# rebuild fvcore, we rebuild it for training more conveniently.\n",
        "!pip install fvcore-master.zip\n",
        "\n",
        "# build TextFuseNet-detectron2, which needs cuda-10.1 and gcc-4.9.\n",
        "!python setup.py build develop"
      ],
      "metadata": {
        "id": "Gz1-XszBHTMs"
      },
      "execution_count": null,
      "outputs": []
    },
    {
      "cell_type": "markdown",
      "source": [
        "# Data preprocess"
      ],
      "metadata": {
        "id": "NMSmTXveLT1a"
      }
    },
    {
      "cell_type": "markdown",
      "source": [
        "<h3> Download thumbnails from Youtube</h3>"
      ],
      "metadata": {
        "id": "UpjYESR87kpn"
      }
    },
    {
      "cell_type": "code",
      "source": [
        "from tqdm import tqdm\n",
        "import pandas as pd\n",
        "import requests\n",
        "import cv2\n",
        "\n",
        "os.chdir(colab_path) if os.getcwd() != colab_path else os.getcwd()\n",
        "path = \"\"\n",
        "csv = \"*.csv\"  # csv include all youtube video id\n",
        "df = pd.read_csv(f\"{path}/{csv}\")\n",
        "ids = df[\"id\"]\n",
        "\n",
        "for id in tqdm(ids):\n",
        "    url = f\"https://img.youtube.com/vi/{id}/maxresdefault.jpg\"\n",
        "    img = requests.get(url)\n",
        "\n",
        "    with open(f\"{path}/thumbnails/{id}.jpg\",\"wb\") as file:\n",
        "        file.write(img.content)\n",
        "    file.close()"
      ],
      "metadata": {
        "id": "QIvNVey_LdNl"
      },
      "execution_count": null,
      "outputs": []
    },
    {
      "cell_type": "markdown",
      "source": [
        "<h3>Run model</h3>"
      ],
      "metadata": {
        "id": "vUCF3b_M77KN"
      }
    },
    {
      "cell_type": "code",
      "source": [
        "path = \"/content/drive/MyDrive/Colab Notebooks\"\n",
        "df = pd.read_csv(f\"{path}/{csv}\")\n",
        "ids = df[\"id\"]\n",
        "\n",
        "os.chdir(\"TextFuseNet\") if os.getcwd() != f\"{colab_path}/TextFuseNet\" else os.getcwd()\n",
        "\n",
        "\n",
        "import argparse\n",
        "import glob\n",
        "import multiprocessing as mp\n",
        "import os\n",
        "import time\n",
        "import cv2\n",
        "import tqdm\n",
        "import numpy as np\n",
        "\n",
        "from detectron2.config import get_cfg\n",
        "from detectron2.data.detection_utils import read_image\n",
        "from detectron2.utils.logger import setup_logger\n",
        "\n",
        "from demo.predictor import VisualizationDemo\n",
        "\n",
        "# constants\n",
        "WINDOW_NAME = \"COCO detections\"\n",
        "\n",
        "\n",
        "def setup_cfg(args):\n",
        "    # load config from file and command-line arguments\n",
        "    cfg = get_cfg()\n",
        "    cfg.merge_from_file(args.config_file)\n",
        "    cfg.merge_from_list(args.opts)\n",
        "    # Set model\n",
        "    cfg.MODEL.WEIGHTS = args.weights\n",
        "    # Set score_threshold for builtin models\n",
        "    cfg.MODEL.RETINANET.SCORE_THRESH_TEST = args.confidence_threshold\n",
        "    cfg.MODEL.ROI_HEADS.SCORE_THRESH_TEST = args.confidence_threshold\n",
        "    cfg.MODEL.PANOPTIC_FPN.COMBINE.INSTANCES_CONFIDENCE_THRESH = args.confidence_threshold\n",
        "    cfg.freeze()\n",
        "    return cfg\n",
        "\n",
        "\n",
        "def get_parser():\n",
        "    parser = argparse.ArgumentParser(description=\"Detectron2 Demo\")\n",
        "    parser.add_argument(\n",
        "        \"--config-file\",\n",
        "        default=\"./configs/ocr/icdar2013_101_FPN.yaml\",\n",
        "        metavar=\"FILE\",\n",
        "        help=\"path to config file\",\n",
        "    )\n",
        "\n",
        "    parser.add_argument(\n",
        "        \"--weights\",\n",
        "        default=\"./out_dir_r101/icdar2013_model/model_ic13_r101.pth\",\n",
        "        metavar=\"pth\",\n",
        "        help=\"the model used to inference\",\n",
        "    )\n",
        "\n",
        "    parser.add_argument(\n",
        "        \"--input\",\n",
        "        default=\"../taitra_data/thumbnails/*.jpg\",\n",
        "        nargs=\"+\",\n",
        "        help=\"the folder of icdar2013 test images\"\n",
        "    )\n",
        "\n",
        "    parser.add_argument(\n",
        "        \"--output\",\n",
        "        default=\"./Taitra_img/\",\n",
        "        help=\"A file or directory to save output visualizations. \"\n",
        "        \"If not given, will show output in an OpenCV window.\",\n",
        "    )\n",
        "\n",
        "    parser.add_argument(\n",
        "        \"--confidence-threshold\",\n",
        "        type=float,\n",
        "        default=0.7,\n",
        "        help=\"Minimum score for instance predictions to be shown\",\n",
        "    )\n",
        "    parser.add_argument(\n",
        "        \"--opts\",\n",
        "        help=\"Modify config options using the command-line 'KEY VALUE' pairs\",\n",
        "        default=[],\n",
        "        nargs=argparse.REMAINDER,\n",
        "    )\n",
        "    return parser\n",
        "\n",
        "\n",
        "def save_result_to_txt(txt_save_path,prediction,polygons):\n",
        "\n",
        "    file = open(txt_save_path,'w')\n",
        "    classes = prediction['instances'].pred_classes\n",
        "    boxes = prediction['instances'].pred_boxes.tensor\n",
        "\n",
        "    for i in range(len(classes)):\n",
        "        if classes[i]==0:\n",
        "            xmin = str(int(boxes[i][0]))\n",
        "            ymin = str(int(boxes[i][1]))\n",
        "            xmax = str(int(boxes[i][2]))\n",
        "            ymax = str(int(boxes[i][3]))\n",
        "\n",
        "            file.writelines(xmin+','+ymin+','+xmax+','+ymax+',')\n",
        "            file.writelines('\\r\\n')\n",
        "    file.close()\n",
        "\n",
        "\n",
        "if __name__ == \"__main__\":\n",
        "\n",
        "    args = get_parser().parse_args(args=[])\n",
        "\n",
        "    cfg = setup_cfg(args)\n",
        "    detection_demo = VisualizationDemo(cfg)\n",
        "\n",
        "    test_images_path = args.input\n",
        "    output_path = args.output\n",
        "    start_time_all = time.time()\n",
        "    img_count = 0\n",
        "    for i in glob.glob(test_images_path):\n",
        "        print(i)\n",
        "        img_name = os.path.basename(i)\n",
        "        img_save_path = output_path + img_name.split('.')[0] + '.jpg'\n",
        "        img = cv2.imread(i)\n",
        "        start_time = time.time()\n",
        "\n",
        "        prediction, vis_output, polygons = detection_demo.run_on_image(img)\n",
        "\n",
        "        txt_save_path = output_path + 'res_img' + img_name.split('.')[0]+ '.txt'\n",
        "        print(txt_save_path)\n",
        "        save_result_to_txt(txt_save_path,prediction,polygons)\n",
        "\n",
        "        print(\"Time: {:.2f} s / img\".format(time.time() - start_time))\n",
        "        vis_output.save(img_save_path)\n",
        "        img_count += 1\n",
        "    print(img_count)\n",
        "    print(\"Average Time: {:.2f} s /img\".format((time.time() - start_time_all) / img_count))\n"
      ],
      "metadata": {
        "id": "Qn0soBLuaZsn"
      },
      "execution_count": null,
      "outputs": []
    }
  ]
}